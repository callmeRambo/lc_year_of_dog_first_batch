{
 "cells": [
  {
   "cell_type": "markdown",
   "metadata": {},
   "source": [
    "# 32. Longest Valid Parenthese"
   ]
  },
  {
   "cell_type": "code",
   "execution_count": null,
   "metadata": {
    "collapsed": true
   },
   "outputs": [],
   "source": [
    "class Solution {\n",
    "public:\n",
    "    int longestValidParentheses(string s) {\n",
    "        stack<int> stk;\n",
    "        stk.push(-1);\n",
    "        int maxL=0;\n",
    "        for(int i=0;i<s.size();i++)\n",
    "        {\n",
    "            int t=stk.top();\n",
    "            if(t!=-1&&s[i]==')'&&s[t]=='(')\n",
    "            {\n",
    "                stk.pop();\n",
    "                maxL=max(maxL,i-stk.top());\n",
    "            }\n",
    "            else\n",
    "                stk.push(i);\n",
    "        }\n",
    "        return maxL;\n",
    "    }\n",
    "};"
   ]
  },
  {
   "cell_type": "markdown",
   "metadata": {},
   "source": [
    "### s can be like \")()())\", with size of 6\n",
    "## first step: \n",
    "stack stop push in a -1 and then call the iteration,define t as -1. Therefore, push i(which is 0) in stack.\n",
    "## second step(in loop):\n",
    "### stk is -1,0, maxL = 0, i = 1, t = 0<br> if(t!=-1&&s[i]==')'&&s[t]=='('),\n",
    "##### i represents the \"top\" element of valid parenthese and t represents the \"base\" element of valid ..\n",
    "define t as 0, therefore it goes down to the if, then pop out the top element of stack, and see the bigger value.                 maxL=max(maxL,i-stk.top());\n",
    "#### maxL is initialized as 0, then i - stk.top() is 1 here.\n",
    "## repeat the above step\n",
    "### so s goes like: \n",
    "stk: -1, 0 <br>i = 1 and t = 0, s[i] ='(' and s[t] = ')', stk: -1, 0, 1<br>i = 2 and t = 1, s[i] =')' and s[t] = '(', stk: -1, 0, maxL = 2<br>i = 3 and t = 0, s[i] ='(' and s[t] = ')', stk: -1, 0, 3<br>i = 4 and t = 3, s[i] =')' and s[t] = '(', stk: -1, 0 maxL = 4<br>...\n",
    "## analysis\n",
    "This algorithmn took iteration as position of the string, storing positions in stack, if \"()\" appears in this string, according to \"                maxL=max(maxL,i-stk.top());\n",
    "\" it would count the continuous pairs."
   ]
  }
 ],
 "metadata": {
  "kernelspec": {
   "display_name": "Python 3",
   "language": "python",
   "name": "python3"
  },
  "language_info": {
   "codemirror_mode": {
    "name": "ipython",
    "version": 3
   },
   "file_extension": ".py",
   "mimetype": "text/x-python",
   "name": "python",
   "nbconvert_exporter": "python",
   "pygments_lexer": "ipython3",
   "version": "3.5.2"
  }
 },
 "nbformat": 4,
 "nbformat_minor": 2
}
