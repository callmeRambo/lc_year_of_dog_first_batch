{
 "cells": [
  {
   "cell_type": "markdown",
   "metadata": {},
   "source": [
    "Given a linked list, reverse the nodes of a linked list k at a time and return its modified list.\n",
    "\n",
    "k is a positive integer and is less than or equal to the length of the linked list. If the number of nodes is not a multiple of k then left-out nodes in the end should remain as it is.\n",
    "\n",
    "You may not alter the values in the nodes, only nodes itself may be changed.\n",
    "\n",
    "Only constant memory is allowed.\n",
    "\n",
    "For example,\n",
    "Given this linked list: 1->2->3->4->5\n",
    "\n",
    "For k = 2, you should return: 2->1->4->3->5\n",
    "\n",
    "For k = 3, you should return: 3->2->1->4->5"
   ]
  },
  {
   "cell_type": "code",
   "execution_count": 104,
   "metadata": {},
   "outputs": [],
   "source": [
    "# Definition for singly-linked list.\n",
    "class ListNode:\n",
    "    def __init__(self, x):\n",
    "        self.val = x\n",
    "        self.next = None\n",
    "\n",
    "class Solution:\n",
    "    def reverseKGroup(self, head, k):\n",
    "        \"\"\"\n",
    "        :type head: ListNode\n",
    "        :type k: int\n",
    "        :rtype: ListNode\n",
    "        \"\"\"\n",
    "        h1 = head\n",
    "        #链表首端\n",
    "        h2 = head        \n",
    "        head = head.next\n",
    "        while True:\n",
    "            #h1 = head\n",
    "            h3,head,tail = self.reverseK(head,k)\n",
    "            #head是当前cursor最后位置\n",
    "            #tail是下一个正确位置\n",
    "            h1.next = head\n",
    "            h1 = h3\n",
    "            #记录上次首端\n",
    "            if tail==None:\n",
    "                h1.next = None\n",
    "                break\n",
    "            head = tail            \n",
    "        return h2\n",
    "\n",
    "    def reverseK(self,head,k):\n",
    "        h1,cur = head,head\n",
    "        if cur.next!=None:\n",
    "            cur2 = cur.next\n",
    "        else:\n",
    "            return h1,cur,None\n",
    "        #交换位置\n",
    "        while k>1 and cur2!=None:\n",
    "            k-=1\n",
    "            cur3, cur2.next = cur2.next, cur\n",
    "            cur, cur2 = cur2, cur3\n",
    "        return h1,cur,cur2\n",
    "    "
   ]
  },
  {
   "cell_type": "code",
   "execution_count": 105,
   "metadata": {},
   "outputs": [
    {
     "name": "stdout",
     "output_type": "stream",
     "text": [
      "2\n",
      "1\n",
      "4\n",
      "3\n",
      "5\n"
     ]
    }
   ],
   "source": [
    "head = ListNode(None)\n",
    "a = head\n",
    "for i in range(1,6):\n",
    "    a.next = ListNode(i)\n",
    "    a = a.next\n",
    "head = Solution().reverseKGroup(head,2).next\n",
    "while head!=None:\n",
    "    print(head.val)\n",
    "    head = head.next"
   ]
  }
 ],
 "metadata": {
  "kernelspec": {
   "display_name": "Python 3",
   "language": "python",
   "name": "python3"
  },
  "language_info": {
   "codemirror_mode": {
    "name": "ipython",
    "version": 3
   },
   "file_extension": ".py",
   "mimetype": "text/x-python",
   "name": "python",
   "nbconvert_exporter": "python",
   "pygments_lexer": "ipython3",
   "version": "3.5.2"
  }
 },
 "nbformat": 4,
 "nbformat_minor": 2
}
