{
 "cells": [
  {
   "cell_type": "markdown",
   "metadata": {},
   "source": [
    "given a pricture consisting of black and white pixels, find the number of black lonely pixels.\n",
    "the picture is represented by a 2d char array consisting of 'B' and 'W', which means black and white pixels respectively.\n",
    "a black lonely pixel is character 'B' that located at a specific position where the same row and same column don't have any other black pixels.\n"
   ]
  },
  {
   "cell_type": "code",
   "execution_count": 3,
   "metadata": {},
   "outputs": [],
   "source": [
    "input = [['W','W','B'],['W','B','W'],['B','W','W']]"
   ]
  },
  {
   "cell_type": "markdown",
   "metadata": {},
   "source": [
    "如果出现一行满足单个B，检查该列。如果该列也满足，其实可以同时删除该行和该列（优化部分）。如果在列对比不满足，则同时删除这几行和这列。\n",
    "第一步，构建列矩阵 n*m\n",
    "第二步，遍历行矩阵\n",
    "第三步，检查是否满足single B，并做删除"
   ]
  }
 ],
 "metadata": {
  "kernelspec": {
   "display_name": "Python 3",
   "language": "python",
   "name": "python3"
  },
  "language_info": {
   "codemirror_mode": {
    "name": "ipython",
    "version": 3
   },
   "file_extension": ".py",
   "mimetype": "text/x-python",
   "name": "python",
   "nbconvert_exporter": "python",
   "pygments_lexer": "ipython3",
   "version": "3.5.2"
  }
 },
 "nbformat": 4,
 "nbformat_minor": 2
}
