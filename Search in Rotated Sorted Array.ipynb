{
 "cells": [
  {
   "cell_type": "markdown",
   "metadata": {},
   "source": [
    "# 33. Search in Rotated Sorted Array"
   ]
  },
  {
   "cell_type": "markdown",
   "metadata": {},
   "source": [
    "Suppose an array sorted in ascending order is rotated at some pivot unknown to you beforehand.<br>(i.e., 0 1 2 4 5 6 7 might become 4 5 6 7 0 1 2).<br>You are given a target value to search. If found in the array return its index, otherwise return -1.<br>You may assume no duplicate exists in the array.\n",
    "\n"
   ]
  },
  {
   "cell_type": "code",
   "execution_count": null,
   "metadata": {
    "collapsed": true
   },
   "outputs": [],
   "source": [
    "class Solution {\n",
    "public:\n",
    "    int search(vector<int>& nums, int target) {\n",
    "        int lo = 0, hi = nums.size();\n",
    "        while (lo < hi) {\n",
    "            int mid = (lo + hi) / 2;\n",
    "        \n",
    "            double num = (nums[mid] < nums[0]) == (target < nums[0])\n",
    "                   ? nums[mid]\n",
    "                   : target < nums[0] ? -INFINITY : INFINITY;\n",
    "                   \n",
    "            if (num < target)\n",
    "                lo = mid + 1;\n",
    "            else if (num > target)\n",
    "                hi = mid;\n",
    "            else\n",
    "                return mid;\n",
    "        }\n",
    "        return -1;\n",
    "    }\n",
    "};\n",
    "\n"
   ]
  },
  {
   "cell_type": "markdown",
   "metadata": {},
   "source": [
    "## the above algorithm describe a specific binary search "
   ]
  },
  {
   "cell_type": "code",
   "execution_count": null,
   "metadata": {
    "collapsed": true
   },
   "outputs": [],
   "source": [
    "             double num = (nums[mid] < nums[0]) == (target < nums[0])\n",
    "                   ? nums[mid]\n",
    "                   : target < nums[0] ? -INFINITY : INFINITY;"
   ]
  },
  {
   "cell_type": "markdown",
   "metadata": {},
   "source": [
    "### smart way:\n",
    "<br>mark larger or smaller numbers as inf. The first line detects the front or last part is larger.\n",
    "d = a ? b : c\n",
    "<br> If a is true, d = a,otherwise d = c\n",
    "<br>\n",
    "<br> 4 5 6 7 0 1 2 and target is 5, so middle value should be 7\n",
    "<br> double num = 7(false == false )\n",
    "<br> otherwise is  -INFINITY or INFINITY;\n",
    "<br> Then next step is binary seach\n",
    "### because part of this list is sorted!\n",
    "Therefore, we can find an interval the required number within, binary can be useful under this situation.\n"
   ]
  }
 ],
 "metadata": {
  "kernelspec": {
   "display_name": "Python 3",
   "language": "python",
   "name": "python3"
  },
  "language_info": {
   "codemirror_mode": {
    "name": "ipython",
    "version": 3
   },
   "file_extension": ".py",
   "mimetype": "text/x-python",
   "name": "python",
   "nbconvert_exporter": "python",
   "pygments_lexer": "ipython3",
   "version": "3.5.2"
  }
 },
 "nbformat": 4,
 "nbformat_minor": 2
}
